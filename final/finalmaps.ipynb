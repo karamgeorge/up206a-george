{
 "cells": [
  {
   "cell_type": "code",
   "execution_count": 2,
   "id": "c0a0a76c-d9d4-4548-aef0-0e1daa6c4b81",
   "metadata": {},
   "outputs": [
    {
     "name": "stderr",
     "output_type": "stream",
     "text": [
      "/opt/conda/lib/python3.9/site-packages/geopandas/_compat.py:106: UserWarning: The Shapely GEOS version (3.9.1-CAPI-1.14.2) is incompatible with the GEOS version PyGEOS was compiled with (3.10.1-CAPI-1.16.0). Conversions between both will be slow.\n",
      "  warnings.warn(\n"
     ]
    }
   ],
   "source": [
    "import pandas as pd\n",
    "import geopandas as gpd\n",
    "import matplotlib.pyplot as plt\n",
    "import contextily as ctx\n",
    "import plotly.express as px"
   ]
  },
  {
   "cell_type": "code",
   "execution_count": 3,
   "id": "f8a0fe4b-5031-4fe4-839e-5f2555485097",
   "metadata": {},
   "outputs": [],
   "source": [
    "crash = pd.read_csv('Crashes_2009_2018.csv')"
   ]
  },
  {
   "cell_type": "code",
   "execution_count": 4,
   "id": "eac20335-55f7-4d0f-b669-e18f4675e30f",
   "metadata": {},
   "outputs": [],
   "source": [
    "sub = ['ACCIDENT_YEAR', 'COLLISION_SEVERITY', 'POINT_X', 'POINT_Y']"
   ]
  },
  {
   "cell_type": "code",
   "execution_count": 5,
   "id": "062aa9ca-1c23-4e73-bf83-eb5583dab3b9",
   "metadata": {},
   "outputs": [],
   "source": [
    "crash1 = crash[sub].copy()"
   ]
  },
  {
   "cell_type": "code",
   "execution_count": 6,
   "id": "5919ae6e-b0c0-4b9c-a25d-23b43f97076d",
   "metadata": {},
   "outputs": [
    {
     "name": "stdout",
     "output_type": "stream",
     "text": [
      "<class 'pandas.core.frame.DataFrame'>\n",
      "RangeIndex: 21815 entries, 0 to 21814\n",
      "Data columns (total 4 columns):\n",
      " #   Column              Non-Null Count  Dtype  \n",
      "---  ------              --------------  -----  \n",
      " 0   ACCIDENT_YEAR       21815 non-null  int64  \n",
      " 1   COLLISION_SEVERITY  21815 non-null  int64  \n",
      " 2   POINT_X             21815 non-null  float64\n",
      " 3   POINT_Y             21815 non-null  float64\n",
      "dtypes: float64(2), int64(2)\n",
      "memory usage: 681.8 KB\n"
     ]
    }
   ],
   "source": [
    "crash1.info()"
   ]
  },
  {
   "cell_type": "code",
   "execution_count": 7,
   "id": "998e0be3-8551-4237-b7da-75eafdb99a3f",
   "metadata": {},
   "outputs": [],
   "source": [
    "crash1_geo = gpd.GeoDataFrame(crash1, geometry=gpd.points_from_xy(crash1.POINT_X, crash1.POINT_Y))"
   ]
  },
  {
   "cell_type": "code",
   "execution_count": 8,
   "id": "3b1aa7a6-18d6-4650-90a7-bede39e2ef1a",
   "metadata": {},
   "outputs": [
    {
     "data": {
      "text/plain": [
       "<AxesSubplot:>"
      ]
     },
     "execution_count": 8,
     "metadata": {},
     "output_type": "execute_result"
    },
    {
     "data": {
      "image/png": "[encoded data removed]",
      "text/plain": [
       "<Figure size 720x720 with 1 Axes>"
      ]
     },
     "metadata": {
      "needs_background": "light"
     },
     "output_type": "display_data"
    }
   ],
   "source": [
    "crash1_geo.plot(figsize=(10,10))"
   ]
  },
  {
   "cell_type": "code",
   "execution_count": 9,
   "id": "8ab7d026-3b02-48bf-9f28-23aceb4a5b01",
   "metadata": {},
   "outputs": [],
   "source": [
    "neighborhoods = gpd.read_file('LA_Times_Neighborhood_Boundaries.geojson')"
   ]
  },
  {
   "cell_type": "code",
   "execution_count": 10,
   "id": "4ea5821c-a133-4f02-a51c-cd2a0c611031",
   "metadata": {},
   "outputs": [
    {
     "data": {
      "text/plain": [
       "<Geographic 2D CRS: EPSG:4326>\n",
       "Name: WGS 84\n",
       "Axis Info [ellipsoidal]:\n",
       "- Lat[north]: Geodetic latitude (degree)\n",
       "- Lon[east]: Geodetic longitude (degree)\n",
       "Area of Use:\n",
       "- name: World.\n",
       "- bounds: (-180.0, -90.0, 180.0, 90.0)\n",
       "Datum: World Geodetic System 1984 ensemble\n",
       "- Ellipsoid: WGS 84\n",
       "- Prime Meridian: Greenwich"
      ]
     },
     "execution_count": 10,
     "metadata": {},
     "output_type": "execute_result"
    }
   ],
   "source": [
    "neighborhoods.crs"
   ]
  },
  {
   "cell_type": "code",
   "execution_count": 12,
   "id": "00495bce-468d-4335-9fa6-398902e16a54",
   "metadata": {},
   "outputs": [
    {
     "data": {
      "text/html": [
       "<div>\n",
       "<style scoped>\n",
       "    .dataframe tbody tr th:only-of-type {\n",
       "        vertical-align: middle;\n",
       "    }\n",
       "\n",
       "    .dataframe tbody tr th {\n",
       "        vertical-align: top;\n",
       "    }\n",
       "\n",
       "    .dataframe thead th {\n",
       "        text-align: right;\n",
       "    }\n",
       "</style>\n",
       "<table border=\"1\" class=\"dataframe\">\n",
       "  <thead>\n",
       "    <tr style=\"text-align: right;\">\n",
       "      <th></th>\n",
       "      <th>OBJECTID</th>\n",
       "      <th>name</th>\n",
       "      <th>geometry</th>\n",
       "    </tr>\n",
       "  </thead>\n",
       "  <tbody>\n",
       "    <tr>\n",
       "      <th>81</th>\n",
       "      <td>82</td>\n",
       "      <td>Sepulveda Basin</td>\n",
       "      <td>POLYGON ((-118.47144 34.16192, -118.47241 34.1...</td>\n",
       "    </tr>\n",
       "    <tr>\n",
       "      <th>69</th>\n",
       "      <td>70</td>\n",
       "      <td>Pacoima</td>\n",
       "      <td>POLYGON ((-118.41131 34.28981, -118.40915 34.2...</td>\n",
       "    </tr>\n",
       "    <tr>\n",
       "      <th>38</th>\n",
       "      <td>39</td>\n",
       "      <td>Griffith Park</td>\n",
       "      <td>POLYGON ((-118.30019 34.15791, -118.29884 34.1...</td>\n",
       "    </tr>\n",
       "    <tr>\n",
       "      <th>64</th>\n",
       "      <td>65</td>\n",
       "      <td>Mount Washington</td>\n",
       "      <td>POLYGON ((-118.21356 34.11627, -118.21207 34.1...</td>\n",
       "    </tr>\n",
       "    <tr>\n",
       "      <th>101</th>\n",
       "      <td>102</td>\n",
       "      <td>Vermont Vista</td>\n",
       "      <td>POLYGON ((-118.28044 33.92912, -118.28066 33.9...</td>\n",
       "    </tr>\n",
       "    <tr>\n",
       "      <th>93</th>\n",
       "      <td>94</td>\n",
       "      <td>University Park</td>\n",
       "      <td>POLYGON ((-118.27986 34.01848, -118.28294 34.0...</td>\n",
       "    </tr>\n",
       "    <tr>\n",
       "      <th>91</th>\n",
       "      <td>92</td>\n",
       "      <td>Toluca Lake</td>\n",
       "      <td>POLYGON ((-118.35717 34.16310, -118.35716 34.1...</td>\n",
       "    </tr>\n",
       "    <tr>\n",
       "      <th>89</th>\n",
       "      <td>90</td>\n",
       "      <td>Sylmar</td>\n",
       "      <td>POLYGON ((-118.47661 34.33019, -118.47583 34.3...</td>\n",
       "    </tr>\n",
       "    <tr>\n",
       "      <th>78</th>\n",
       "      <td>79</td>\n",
       "      <td>Reseda</td>\n",
       "      <td>POLYGON ((-118.55822 34.18657, -118.56223 34.1...</td>\n",
       "    </tr>\n",
       "    <tr>\n",
       "      <th>87</th>\n",
       "      <td>88</td>\n",
       "      <td>Sunland</td>\n",
       "      <td>POLYGON ((-118.29941 34.27623, -118.29954 34.2...</td>\n",
       "    </tr>\n",
       "  </tbody>\n",
       "</table>\n",
       "</div>"
      ],
      "text/plain": [
       "     OBJECTID              name  \\\n",
       "81         82   Sepulveda Basin   \n",
       "69         70           Pacoima   \n",
       "38         39     Griffith Park   \n",
       "64         65  Mount Washington   \n",
       "101       102     Vermont Vista   \n",
       "93         94   University Park   \n",
       "91         92       Toluca Lake   \n",
       "89         90            Sylmar   \n",
       "78         79            Reseda   \n",
       "87         88           Sunland   \n",
       "\n",
       "                                              geometry  \n",
       "81   POLYGON ((-118.47144 34.16192, -118.47241 34.1...  \n",
       "69   POLYGON ((-118.41131 34.28981, -118.40915 34.2...  \n",
       "38   POLYGON ((-118.30019 34.15791, -118.29884 34.1...  \n",
       "64   POLYGON ((-118.21356 34.11627, -118.21207 34.1...  \n",
       "101  POLYGON ((-118.28044 33.92912, -118.28066 33.9...  \n",
       "93   POLYGON ((-118.27986 34.01848, -118.28294 34.0...  \n",
       "91   POLYGON ((-118.35717 34.16310, -118.35716 34.1...  \n",
       "89   POLYGON ((-118.47661 34.33019, -118.47583 34.3...  \n",
       "78   POLYGON ((-118.55822 34.18657, -118.56223 34.1...  \n",
       "87   POLYGON ((-118.29941 34.27623, -118.29954 34.2...  "
      ]
     },
     "execution_count": 12,
     "metadata": {},
     "output_type": "execute_result"
    }
   ],
   "source": [
    "neighborhoods.sample(10)"
   ]
  },
  {
   "cell_type": "code",
   "execution_count": 13,
   "id": "ab94c4ba-0c42-4407-9b79-6e8da3380363",
   "metadata": {},
   "outputs": [
    {
     "data": {
      "text/plain": [
       "<AxesSubplot:>"
      ]
     },
     "execution_count": 13,
     "metadata": {},
     "output_type": "execute_result"
    },
    {
     "data": {
      "image/png": "[encoded data removed]",
      "text/plain": [
       "<Figure size 432x288 with 1 Axes>"
      ]
     },
     "metadata": {
      "needs_background": "light"
     },
     "output_type": "display_data"
    }
   ],
   "source": [
    "neighborhoods.plot()"
   ]
  },
  {
   "cell_type": "code",
   "execution_count": 18,
   "id": "f063fee6-d9ee-4057-91c7-490ef28c5bf3",
   "metadata": {},
   "outputs": [],
   "source": []
  },
  {
   "cell_type": "code",
   "execution_count": null,
   "id": "24d5eb21-ce4f-418f-b4f7-18e4f89f02b8",
   "metadata": {},
   "outputs": [],
   "source": []
  },
  {
   "cell_type": "code",
   "execution_count": null,
   "id": "dd83b523-a0f3-4b31-9d81-3d42aa1a0575",
   "metadata": {},
   "outputs": [],
   "source": []
  }
 ],
 "metadata": {
  "kernelspec": {
   "display_name": "Python 3 (ipykernel)",
   "language": "python",
   "name": "python3"
  },
  "language_info": {
   "codemirror_mode": {
    "name": "ipython",
    "version": 3
   },
   "file_extension": ".py",
   "mimetype": "text/x-python",
   "name": "python",
   "nbconvert_exporter": "python",
   "pygments_lexer": "ipython3",
   "version": "3.9.6"
  }
 },
 "nbformat": 4,
 "nbformat_minor": 5
}
