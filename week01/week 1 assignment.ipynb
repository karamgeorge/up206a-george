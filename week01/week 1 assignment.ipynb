{
 "cells": [
  {
   "cell_type": "markdown",
   "id": "3bc26413-d219-4c93-8e92-241fb0b39dc0",
   "metadata": {},
   "source": [
    "### Week 1 Assignment: Data Exploration\n",
    "##### In this week's assignment, I will be exploring a dataset provided by LA Metro that maps all bus routes in their service area."
   ]
  },
  {
   "cell_type": "markdown",
   "id": "df7fee3f-d38e-4a2c-9579-2e0d1490e0de",
   "metadata": {},
   "source": [
    "Since we're working with spatial data, we must first import the `geopandas` geospatial library."
   ]
  },
  {
   "cell_type": "code",
   "execution_count": 1,
   "id": "b494e6b1-5a19-4f0c-8081-913673b1b929",
   "metadata": {},
   "outputs": [
    {
     "name": "stderr",
     "output_type": "stream",
     "text": [
      "/opt/conda/lib/python3.9/site-packages/geopandas/_compat.py:106: UserWarning: The Shapely GEOS version (3.9.1-CAPI-1.14.2) is incompatible with the GEOS version PyGEOS was compiled with (3.10.1-CAPI-1.16.0). Conversions between both will be slow.\n",
      "  warnings.warn(\n"
     ]
    }
   ],
   "source": [
    "import geopandas as gpd"
   ]
  },
  {
   "cell_type": "markdown",
   "id": "5425936a-0b6c-437d-80dd-d81d67e0fbba",
   "metadata": {},
   "source": [
    "Once we have imported `geopandas`, we import a shapefile provided by LA Metro."
   ]
  },
  {
   "cell_type": "code",
   "execution_count": 2,
   "id": "5294337f-2fa0-4ec7-b63d-2f7cb7937c43",
   "metadata": {},
   "outputs": [],
   "source": [
    "# define variable metro for the dataset\n",
    "brt = gpd.read_file('RapidBRT1221.zip')"
   ]
  },
  {
   "cell_type": "code",
   "execution_count": 3,
   "id": "9773e527-c312-4393-a713-f320d352e3df",
   "metadata": {},
   "outputs": [
    {
     "data": {
      "text/plain": [
       "geopandas.geodataframe.GeoDataFrame"
      ]
     },
     "execution_count": 3,
     "metadata": {},
     "output_type": "execute_result"
    }
   ],
   "source": [
    "# checking what 'type' of data\n",
    "type(brt)"
   ]
  },
  {
   "cell_type": "markdown",
   "id": "1ed4eadc-a24b-40d7-9211-888f61d9a1ca",
   "metadata": {},
   "source": [
    "Let's look at some of the data!"
   ]
  },
  {
   "cell_type": "code",
   "execution_count": 4,
   "id": "a005b7b0-2e10-4b1c-a1a8-e4705c78f06a",
   "metadata": {},
   "outputs": [
    {
     "data": {
      "text/html": [
       "<div>\n",
       "<style scoped>\n",
       "    .dataframe tbody tr th:only-of-type {\n",
       "        vertical-align: middle;\n",
       "    }\n",
       "\n",
       "    .dataframe tbody tr th {\n",
       "        vertical-align: top;\n",
       "    }\n",
       "\n",
       "    .dataframe thead th {\n",
       "        text-align: right;\n",
       "    }\n",
       "</style>\n",
       "<table border=\"1\" class=\"dataframe\">\n",
       "  <thead>\n",
       "    <tr style=\"text-align: right;\">\n",
       "      <th></th>\n",
       "      <th>VAR_ROUTE</th>\n",
       "      <th>VAR_IDENT</th>\n",
       "      <th>VAR_DIREC</th>\n",
       "      <th>VAR_DESCR</th>\n",
       "      <th>geometry</th>\n",
       "    </tr>\n",
       "  </thead>\n",
       "  <tbody>\n",
       "    <tr>\n",
       "      <th>0</th>\n",
       "      <td>720</td>\n",
       "      <td>E1</td>\n",
       "      <td>2</td>\n",
       "      <td>END TO END</td>\n",
       "      <td>LINESTRING (-118.49027 34.01384, -118.49043 34...</td>\n",
       "    </tr>\n",
       "    <tr>\n",
       "      <th>1</th>\n",
       "      <td>720</td>\n",
       "      <td>E3</td>\n",
       "      <td>2</td>\n",
       "      <td>FEDERAL BLDG. L.O.</td>\n",
       "      <td>LINESTRING (-118.44719 34.05707, -118.44699 34...</td>\n",
       "    </tr>\n",
       "    <tr>\n",
       "      <th>2</th>\n",
       "      <td>720</td>\n",
       "      <td>E5</td>\n",
       "      <td>2</td>\n",
       "      <td>WILVER LO</td>\n",
       "      <td>LINESTRING (-118.34633 34.06229, -118.34617 34...</td>\n",
       "    </tr>\n",
       "    <tr>\n",
       "      <th>3</th>\n",
       "      <td>720</td>\n",
       "      <td>EB</td>\n",
       "      <td>2</td>\n",
       "      <td>WILSHIRE_BARRINGTON</td>\n",
       "      <td>LINESTRING (-118.46105 34.04936, -118.46087 34...</td>\n",
       "    </tr>\n",
       "    <tr>\n",
       "      <th>4</th>\n",
       "      <td>720</td>\n",
       "      <td>W1</td>\n",
       "      <td>3</td>\n",
       "      <td>END TO END</td>\n",
       "      <td>LINESTRING (-118.23948 34.03875, -118.23842 34...</td>\n",
       "    </tr>\n",
       "  </tbody>\n",
       "</table>\n",
       "</div>"
      ],
      "text/plain": [
       "  VAR_ROUTE VAR_IDENT  VAR_DIREC            VAR_DESCR  \\\n",
       "0       720        E1          2           END TO END   \n",
       "1       720        E3          2   FEDERAL BLDG. L.O.   \n",
       "2       720        E5          2            WILVER LO   \n",
       "3       720        EB          2  WILSHIRE_BARRINGTON   \n",
       "4       720        W1          3           END TO END   \n",
       "\n",
       "                                            geometry  \n",
       "0  LINESTRING (-118.49027 34.01384, -118.49043 34...  \n",
       "1  LINESTRING (-118.44719 34.05707, -118.44699 34...  \n",
       "2  LINESTRING (-118.34633 34.06229, -118.34617 34...  \n",
       "3  LINESTRING (-118.46105 34.04936, -118.46087 34...  \n",
       "4  LINESTRING (-118.23948 34.03875, -118.23842 34...  "
      ]
     },
     "execution_count": 4,
     "metadata": {},
     "output_type": "execute_result"
    }
   ],
   "source": [
    "# checking what the data looks like; .head shows us the first 5 rows of data\n",
    "brt.head()"
   ]
  },
  {
   "cell_type": "code",
   "execution_count": 5,
   "id": "a4d8a287-c496-44c5-a65b-70087d92a36b",
   "metadata": {},
   "outputs": [
    {
     "data": {
      "text/html": [
       "<div>\n",
       "<style scoped>\n",
       "    .dataframe tbody tr th:only-of-type {\n",
       "        vertical-align: middle;\n",
       "    }\n",
       "\n",
       "    .dataframe tbody tr th {\n",
       "        vertical-align: top;\n",
       "    }\n",
       "\n",
       "    .dataframe thead th {\n",
       "        text-align: right;\n",
       "    }\n",
       "</style>\n",
       "<table border=\"1\" class=\"dataframe\">\n",
       "  <thead>\n",
       "    <tr style=\"text-align: right;\">\n",
       "      <th></th>\n",
       "      <th>VAR_ROUTE</th>\n",
       "      <th>VAR_IDENT</th>\n",
       "      <th>VAR_DIREC</th>\n",
       "      <th>VAR_DESCR</th>\n",
       "      <th>geometry</th>\n",
       "    </tr>\n",
       "  </thead>\n",
       "  <tbody>\n",
       "    <tr>\n",
       "      <th>0</th>\n",
       "      <td>720</td>\n",
       "      <td>E1</td>\n",
       "      <td>2</td>\n",
       "      <td>END TO END</td>\n",
       "      <td>LINESTRING (-118.49027 34.01384, -118.49043 34...</td>\n",
       "    </tr>\n",
       "    <tr>\n",
       "      <th>9</th>\n",
       "      <td>754</td>\n",
       "      <td>N1</td>\n",
       "      <td>0</td>\n",
       "      <td>END TO END</td>\n",
       "      <td>LINESTRING (-118.29150 33.92401, -118.29149 33...</td>\n",
       "    </tr>\n",
       "    <tr>\n",
       "      <th>8</th>\n",
       "      <td>720</td>\n",
       "      <td>W5</td>\n",
       "      <td>3</td>\n",
       "      <td>VERMONT L.O.</td>\n",
       "      <td>LINESTRING (-118.28949 34.06226, -118.28991 34...</td>\n",
       "    </tr>\n",
       "    <tr>\n",
       "      <th>14</th>\n",
       "      <td>761</td>\n",
       "      <td>S1</td>\n",
       "      <td>1</td>\n",
       "      <td>761 RAPID END TO END</td>\n",
       "      <td>LINESTRING (-118.45078 34.29346, -118.45078 34...</td>\n",
       "    </tr>\n",
       "    <tr>\n",
       "      <th>16</th>\n",
       "      <td>854</td>\n",
       "      <td>W4</td>\n",
       "      <td>3</td>\n",
       "      <td>PATSAURAS-LITTLE TOKYO-PICO/ALISO (2020)</td>\n",
       "      <td>LINESTRING (-118.22423 34.04751, -118.22522 34...</td>\n",
       "    </tr>\n",
       "  </tbody>\n",
       "</table>\n",
       "</div>"
      ],
      "text/plain": [
       "   VAR_ROUTE VAR_IDENT  VAR_DIREC                                 VAR_DESCR  \\\n",
       "0        720        E1          2                                END TO END   \n",
       "9        754        N1          0                                END TO END   \n",
       "8        720        W5          3                              VERMONT L.O.   \n",
       "14       761        S1          1                      761 RAPID END TO END   \n",
       "16       854        W4          3  PATSAURAS-LITTLE TOKYO-PICO/ALISO (2020)   \n",
       "\n",
       "                                             geometry  \n",
       "0   LINESTRING (-118.49027 34.01384, -118.49043 34...  \n",
       "9   LINESTRING (-118.29150 33.92401, -118.29149 33...  \n",
       "8   LINESTRING (-118.28949 34.06226, -118.28991 34...  \n",
       "14  LINESTRING (-118.45078 34.29346, -118.45078 34...  \n",
       "16  LINESTRING (-118.22423 34.04751, -118.22522 34...  "
      ]
     },
     "execution_count": 5,
     "metadata": {},
     "output_type": "execute_result"
    }
   ],
   "source": [
    "# .sample shows us random rows of data from the dataset\n",
    "brt.sample(5)"
   ]
  },
  {
   "cell_type": "code",
   "execution_count": 6,
   "id": "aab4a21a-e763-45cd-9f99-718d3feba7b5",
   "metadata": {},
   "outputs": [
    {
     "name": "stdout",
     "output_type": "stream",
     "text": [
      "<class 'geopandas.geodataframe.GeoDataFrame'>\n",
      "RangeIndex: 23 entries, 0 to 22\n",
      "Data columns (total 5 columns):\n",
      " #   Column     Non-Null Count  Dtype   \n",
      "---  ------     --------------  -----   \n",
      " 0   VAR_ROUTE  23 non-null     object  \n",
      " 1   VAR_IDENT  23 non-null     object  \n",
      " 2   VAR_DIREC  23 non-null     int64   \n",
      " 3   VAR_DESCR  23 non-null     object  \n",
      " 4   geometry   23 non-null     geometry\n",
      "dtypes: geometry(1), int64(1), object(3)\n",
      "memory usage: 1.0+ KB\n"
     ]
    }
   ],
   "source": [
    "# this command gives us information about the data (i.e., number of entries or data types in the dataset)\n",
    "brt.info()"
   ]
  },
  {
   "cell_type": "code",
   "execution_count": 7,
   "id": "f6d94a0d-bc0d-4868-9c72-9b66474d16ac",
   "metadata": {},
   "outputs": [
    {
     "data": {
      "text/plain": [
       "(23, 5)"
      ]
     },
     "execution_count": 7,
     "metadata": {},
     "output_type": "execute_result"
    }
   ],
   "source": [
    "# this following command tells us how many rows and columns exist in the dataset\n",
    "brt.shape"
   ]
  },
  {
   "cell_type": "markdown",
   "id": "99b49970-6e3d-4605-9867-a65fb3a60ed5",
   "metadata": {},
   "source": [
    "Before we start visualizing, we first have to isolate one variable from the data."
   ]
  },
  {
   "cell_type": "code",
   "execution_count": 12,
   "id": "d23e2728-f159-4892-95c3-e12bf80819ad",
   "metadata": {},
   "outputs": [
    {
     "data": {
      "text/plain": [
       "720    9\n",
       "754    4\n",
       "901    4\n",
       "761    2\n",
       "854    2\n",
       "910    2\n",
       "Name: VAR_ROUTE, dtype: int64"
      ]
     },
     "execution_count": 12,
     "metadata": {},
     "output_type": "execute_result"
    }
   ],
   "source": [
    "brt['VAR_ROUTE'].value_counts()"
   ]
  },
  {
   "cell_type": "code",
   "execution_count": 13,
   "id": "bc4035db-ceeb-4c91-89f7-c1ad2a61bd83",
   "metadata": {},
   "outputs": [],
   "source": [
    "ptrn_count = brt['VAR_ROUTE'].value_counts()"
   ]
  },
  {
   "cell_type": "code",
   "execution_count": 15,
   "id": "15c23a11-2f3f-41f5-bcc0-9abd3733d646",
   "metadata": {},
   "outputs": [
    {
     "data": {
      "text/plain": [
       "pandas.core.series.Series"
      ]
     },
     "execution_count": 15,
     "metadata": {},
     "output_type": "execute_result"
    }
   ],
   "source": [
    "# let's double check our new variable's data type\n",
    "type(ptrn_count)"
   ]
  },
  {
   "cell_type": "code",
   "execution_count": 16,
   "id": "713f1062-8907-48dc-b813-36b127665162",
   "metadata": {},
   "outputs": [
    {
     "data": {
      "text/html": [
       "<div>\n",
       "<style scoped>\n",
       "    .dataframe tbody tr th:only-of-type {\n",
       "        vertical-align: middle;\n",
       "    }\n",
       "\n",
       "    .dataframe tbody tr th {\n",
       "        vertical-align: top;\n",
       "    }\n",
       "\n",
       "    .dataframe thead th {\n",
       "        text-align: right;\n",
       "    }\n",
       "</style>\n",
       "<table border=\"1\" class=\"dataframe\">\n",
       "  <thead>\n",
       "    <tr style=\"text-align: right;\">\n",
       "      <th></th>\n",
       "      <th>index</th>\n",
       "      <th>VAR_ROUTE</th>\n",
       "    </tr>\n",
       "  </thead>\n",
       "  <tbody>\n",
       "    <tr>\n",
       "      <th>0</th>\n",
       "      <td>720</td>\n",
       "      <td>9</td>\n",
       "    </tr>\n",
       "    <tr>\n",
       "      <th>1</th>\n",
       "      <td>754</td>\n",
       "      <td>4</td>\n",
       "    </tr>\n",
       "    <tr>\n",
       "      <th>2</th>\n",
       "      <td>901</td>\n",
       "      <td>4</td>\n",
       "    </tr>\n",
       "    <tr>\n",
       "      <th>3</th>\n",
       "      <td>761</td>\n",
       "      <td>2</td>\n",
       "    </tr>\n",
       "    <tr>\n",
       "      <th>4</th>\n",
       "      <td>854</td>\n",
       "      <td>2</td>\n",
       "    </tr>\n",
       "    <tr>\n",
       "      <th>5</th>\n",
       "      <td>910</td>\n",
       "      <td>2</td>\n",
       "    </tr>\n",
       "  </tbody>\n",
       "</table>\n",
       "</div>"
      ],
      "text/plain": [
       "  index  VAR_ROUTE\n",
       "0   720          9\n",
       "1   754          4\n",
       "2   901          4\n",
       "3   761          2\n",
       "4   854          2\n",
       "5   910          2"
      ]
     },
     "execution_count": 16,
     "metadata": {},
     "output_type": "execute_result"
    }
   ],
   "source": [
    "ptrn_count = ptrn_count.reset_index()\n",
    "ptrn_count"
   ]
  },
  {
   "cell_type": "code",
   "execution_count": 17,
   "id": "54517a51-fd58-45b1-a0c8-7f1deb4badee",
   "metadata": {},
   "outputs": [
    {
     "data": {
      "text/plain": [
       "pandas.core.frame.DataFrame"
      ]
     },
     "execution_count": 17,
     "metadata": {},
     "output_type": "execute_result"
    }
   ],
   "source": [
    "type(ptrn_count)"
   ]
  },
  {
   "cell_type": "markdown",
   "id": "c6abc0b9-e9dd-45d0-964e-23583edcacd3",
   "metadata": {},
   "source": [
    "Let's rename our columns."
   ]
  },
  {
   "cell_type": "code",
   "execution_count": 18,
   "id": "b9541af8-1d1c-4a9a-b7cc-dedb8676e5bf",
   "metadata": {},
   "outputs": [
    {
     "data": {
      "text/plain": [
       "['index', 'VAR_ROUTE']"
      ]
     },
     "execution_count": 18,
     "metadata": {},
     "output_type": "execute_result"
    }
   ],
   "source": [
    "# our current column names\n",
    "ptrn_count.columns.to_list()"
   ]
  },
  {
   "cell_type": "code",
   "execution_count": 19,
   "id": "21001cf7-89cc-4074-a28f-b0c059838c11",
   "metadata": {},
   "outputs": [
    {
     "data": {
      "text/html": [
       "<div>\n",
       "<style scoped>\n",
       "    .dataframe tbody tr th:only-of-type {\n",
       "        vertical-align: middle;\n",
       "    }\n",
       "\n",
       "    .dataframe tbody tr th {\n",
       "        vertical-align: top;\n",
       "    }\n",
       "\n",
       "    .dataframe thead th {\n",
       "        text-align: right;\n",
       "    }\n",
       "</style>\n",
       "<table border=\"1\" class=\"dataframe\">\n",
       "  <thead>\n",
       "    <tr style=\"text-align: right;\">\n",
       "      <th></th>\n",
       "      <th>Bus Route</th>\n",
       "      <th>Pattern Count</th>\n",
       "    </tr>\n",
       "  </thead>\n",
       "  <tbody>\n",
       "    <tr>\n",
       "      <th>0</th>\n",
       "      <td>720</td>\n",
       "      <td>9</td>\n",
       "    </tr>\n",
       "    <tr>\n",
       "      <th>1</th>\n",
       "      <td>754</td>\n",
       "      <td>4</td>\n",
       "    </tr>\n",
       "    <tr>\n",
       "      <th>2</th>\n",
       "      <td>901</td>\n",
       "      <td>4</td>\n",
       "    </tr>\n",
       "    <tr>\n",
       "      <th>3</th>\n",
       "      <td>761</td>\n",
       "      <td>2</td>\n",
       "    </tr>\n",
       "    <tr>\n",
       "      <th>4</th>\n",
       "      <td>854</td>\n",
       "      <td>2</td>\n",
       "    </tr>\n",
       "    <tr>\n",
       "      <th>5</th>\n",
       "      <td>910</td>\n",
       "      <td>2</td>\n",
       "    </tr>\n",
       "  </tbody>\n",
       "</table>\n",
       "</div>"
      ],
      "text/plain": [
       "  Bus Route  Pattern Count\n",
       "0       720              9\n",
       "1       754              4\n",
       "2       901              4\n",
       "3       761              2\n",
       "4       854              2\n",
       "5       910              2"
      ]
     },
     "execution_count": 19,
     "metadata": {},
     "output_type": "execute_result"
    }
   ],
   "source": [
    "ptrn_count.columns = ['Bus Route','Pattern Count']\n",
    "ptrn_count"
   ]
  },
  {
   "cell_type": "markdown",
   "id": "c382e736-66e8-472b-9cf2-ba27e69afcaf",
   "metadata": {},
   "source": [
    "Now that we've cleaned up our data, let's start to visualize it."
   ]
  },
  {
   "cell_type": "code",
   "execution_count": 20,
   "id": "ea2a3356-21f1-4351-a47f-ec0a502a2821",
   "metadata": {},
   "outputs": [
    {
     "data": {
      "text/plain": [
       "<AxesSubplot:>"
      ]
     },
     "execution_count": 20,
     "metadata": {},
     "output_type": "execute_result"
    },
    {
     "data": {
      "image/png": "[encoded data removed]",
      "text/plain": [
       "<Figure size 432x288 with 1 Axes>"
      ]
     },
     "metadata": {
      "needs_background": "light"
     },
     "output_type": "display_data"
    }
   ],
   "source": [
    "ptrn_count.plot()"
   ]
  },
  {
   "cell_type": "markdown",
   "id": "9036edf1-7653-4cc2-8b4d-5546a3c97a77",
   "metadata": {},
   "source": [
    "Since we gave no instructions, this is what the computer thought we wanted. Let's be more specific."
   ]
  },
  {
   "cell_type": "code",
   "execution_count": 21,
   "id": "7b2e5ccb-4708-4252-b800-286951980474",
   "metadata": {},
   "outputs": [
    {
     "data": {
      "text/plain": [
       "<AxesSubplot:title={'center':'Number of patterns per BRT Route'}, xlabel='Bus Route'>"
      ]
     },
     "execution_count": 21,
     "metadata": {},
     "output_type": "execute_result"
    },
    {
     "data": {
      "image/png": "[encoded data removed]",
      "text/plain": [
       "<Figure size 432x288 with 1 Axes>"
      ]
     },
     "metadata": {
      "needs_background": "light"
     },
     "output_type": "display_data"
    }
   ],
   "source": [
    "# assign each axis a label, and label the bar graph\n",
    "ptrn_count.plot.bar(x = 'Bus Route', y = 'Pattern Count', title = 'Number of patterns per BRT Route')"
   ]
  },
  {
   "cell_type": "markdown",
   "id": "67fdd07f-9af1-4c81-8af4-4de2ef6c9309",
   "metadata": {},
   "source": [
    "Let's try mapping out our BRT routes."
   ]
  },
  {
   "cell_type": "code",
   "execution_count": 24,
   "id": "d34f4920-14f0-4240-ab51-e22463fb1ab1",
   "metadata": {},
   "outputs": [
    {
     "name": "stdout",
     "output_type": "stream",
     "text": [
      "<class 'geopandas.geodataframe.GeoDataFrame'>\n",
      "RangeIndex: 23 entries, 0 to 22\n",
      "Data columns (total 5 columns):\n",
      " #   Column     Non-Null Count  Dtype   \n",
      "---  ------     --------------  -----   \n",
      " 0   VAR_ROUTE  23 non-null     object  \n",
      " 1   VAR_IDENT  23 non-null     object  \n",
      " 2   VAR_DIREC  23 non-null     int64   \n",
      " 3   VAR_DESCR  23 non-null     object  \n",
      " 4   geometry   23 non-null     geometry\n",
      "dtypes: geometry(1), int64(1), object(3)\n",
      "memory usage: 1.0+ KB\n"
     ]
    }
   ],
   "source": [
    "# let's view our data's info to see what we need to map\n",
    "brt.info()"
   ]
  },
  {
   "cell_type": "code",
   "execution_count": 27,
   "id": "17353282-fb69-404e-8505-702250f44ea2",
   "metadata": {},
   "outputs": [
    {
     "data": {
      "text/html": [
       "<div>\n",
       "<style scoped>\n",
       "    .dataframe tbody tr th:only-of-type {\n",
       "        vertical-align: middle;\n",
       "    }\n",
       "\n",
       "    .dataframe tbody tr th {\n",
       "        vertical-align: top;\n",
       "    }\n",
       "\n",
       "    .dataframe thead th {\n",
       "        text-align: right;\n",
       "    }\n",
       "</style>\n",
       "<table border=\"1\" class=\"dataframe\">\n",
       "  <thead>\n",
       "    <tr style=\"text-align: right;\">\n",
       "      <th></th>\n",
       "      <th>VAR_ROUTE</th>\n",
       "      <th>geometry</th>\n",
       "    </tr>\n",
       "  </thead>\n",
       "  <tbody>\n",
       "    <tr>\n",
       "      <th>0</th>\n",
       "      <td>720</td>\n",
       "      <td>LINESTRING (-118.49027 34.01384, -118.49043 34...</td>\n",
       "    </tr>\n",
       "    <tr>\n",
       "      <th>1</th>\n",
       "      <td>720</td>\n",
       "      <td>LINESTRING (-118.44719 34.05707, -118.44699 34...</td>\n",
       "    </tr>\n",
       "    <tr>\n",
       "      <th>2</th>\n",
       "      <td>720</td>\n",
       "      <td>LINESTRING (-118.34633 34.06229, -118.34617 34...</td>\n",
       "    </tr>\n",
       "    <tr>\n",
       "      <th>3</th>\n",
       "      <td>720</td>\n",
       "      <td>LINESTRING (-118.46105 34.04936, -118.46087 34...</td>\n",
       "    </tr>\n",
       "    <tr>\n",
       "      <th>4</th>\n",
       "      <td>720</td>\n",
       "      <td>LINESTRING (-118.23948 34.03875, -118.23842 34...</td>\n",
       "    </tr>\n",
       "  </tbody>\n",
       "</table>\n",
       "</div>"
      ],
      "text/plain": [
       "  VAR_ROUTE                                           geometry\n",
       "0       720  LINESTRING (-118.49027 34.01384, -118.49043 34...\n",
       "1       720  LINESTRING (-118.44719 34.05707, -118.44699 34...\n",
       "2       720  LINESTRING (-118.34633 34.06229, -118.34617 34...\n",
       "3       720  LINESTRING (-118.46105 34.04936, -118.46087 34...\n",
       "4       720  LINESTRING (-118.23948 34.03875, -118.23842 34..."
      ]
     },
     "execution_count": 27,
     "metadata": {},
     "output_type": "execute_result"
    }
   ],
   "source": [
    "# let's trim the data down to the columns we need\n",
    "desired_col = ['VAR_ROUTE', 'geometry']\n",
    "brt[desired_col].head()"
   ]
  },
  {
   "cell_type": "code",
   "execution_count": 28,
   "id": "b5b59452-df55-4066-a0e9-22944efab6bc",
   "metadata": {},
   "outputs": [
    {
     "data": {
      "text/html": [
       "<div>\n",
       "<style scoped>\n",
       "    .dataframe tbody tr th:only-of-type {\n",
       "        vertical-align: middle;\n",
       "    }\n",
       "\n",
       "    .dataframe tbody tr th {\n",
       "        vertical-align: top;\n",
       "    }\n",
       "\n",
       "    .dataframe thead th {\n",
       "        text-align: right;\n",
       "    }\n",
       "</style>\n",
       "<table border=\"1\" class=\"dataframe\">\n",
       "  <thead>\n",
       "    <tr style=\"text-align: right;\">\n",
       "      <th></th>\n",
       "      <th>VAR_ROUTE</th>\n",
       "      <th>geometry</th>\n",
       "    </tr>\n",
       "  </thead>\n",
       "  <tbody>\n",
       "    <tr>\n",
       "      <th>0</th>\n",
       "      <td>720</td>\n",
       "      <td>LINESTRING (-118.49027 34.01384, -118.49043 34...</td>\n",
       "    </tr>\n",
       "    <tr>\n",
       "      <th>1</th>\n",
       "      <td>720</td>\n",
       "      <td>LINESTRING (-118.44719 34.05707, -118.44699 34...</td>\n",
       "    </tr>\n",
       "    <tr>\n",
       "      <th>2</th>\n",
       "      <td>720</td>\n",
       "      <td>LINESTRING (-118.34633 34.06229, -118.34617 34...</td>\n",
       "    </tr>\n",
       "    <tr>\n",
       "      <th>3</th>\n",
       "      <td>720</td>\n",
       "      <td>LINESTRING (-118.46105 34.04936, -118.46087 34...</td>\n",
       "    </tr>\n",
       "    <tr>\n",
       "      <th>4</th>\n",
       "      <td>720</td>\n",
       "      <td>LINESTRING (-118.23948 34.03875, -118.23842 34...</td>\n",
       "    </tr>\n",
       "    <tr>\n",
       "      <th>5</th>\n",
       "      <td>720</td>\n",
       "      <td>LINESTRING (-118.48877 34.02689, -118.48888 34...</td>\n",
       "    </tr>\n",
       "    <tr>\n",
       "      <th>6</th>\n",
       "      <td>720</td>\n",
       "      <td>LINESTRING (-118.40898 34.06709, -118.40948 34...</td>\n",
       "    </tr>\n",
       "    <tr>\n",
       "      <th>7</th>\n",
       "      <td>720</td>\n",
       "      <td>LINESTRING (-118.23994 34.03921, -118.23981 34...</td>\n",
       "    </tr>\n",
       "    <tr>\n",
       "      <th>8</th>\n",
       "      <td>720</td>\n",
       "      <td>LINESTRING (-118.28949 34.06226, -118.28991 34...</td>\n",
       "    </tr>\n",
       "    <tr>\n",
       "      <th>9</th>\n",
       "      <td>754</td>\n",
       "      <td>LINESTRING (-118.29150 33.92401, -118.29149 33...</td>\n",
       "    </tr>\n",
       "    <tr>\n",
       "      <th>10</th>\n",
       "      <td>754</td>\n",
       "      <td>LINESTRING (-118.29187 33.95396, -118.29187 33...</td>\n",
       "    </tr>\n",
       "    <tr>\n",
       "      <th>11</th>\n",
       "      <td>754</td>\n",
       "      <td>LINESTRING (-118.29176 34.09985, -118.29177 34...</td>\n",
       "    </tr>\n",
       "    <tr>\n",
       "      <th>12</th>\n",
       "      <td>754</td>\n",
       "      <td>LINESTRING (-118.29167 33.95981, -118.29168 33...</td>\n",
       "    </tr>\n",
       "    <tr>\n",
       "      <th>13</th>\n",
       "      <td>761</td>\n",
       "      <td>LINESTRING (-118.43460 34.03512, -118.43536 34...</td>\n",
       "    </tr>\n",
       "    <tr>\n",
       "      <th>14</th>\n",
       "      <td>761</td>\n",
       "      <td>LINESTRING (-118.45078 34.29346, -118.45078 34...</td>\n",
       "    </tr>\n",
       "    <tr>\n",
       "      <th>15</th>\n",
       "      <td>854</td>\n",
       "      <td>LINESTRING (-118.23319 34.05540, -118.23310 34...</td>\n",
       "    </tr>\n",
       "    <tr>\n",
       "      <th>16</th>\n",
       "      <td>854</td>\n",
       "      <td>LINESTRING (-118.22423 34.04751, -118.22522 34...</td>\n",
       "    </tr>\n",
       "    <tr>\n",
       "      <th>17</th>\n",
       "      <td>901</td>\n",
       "      <td>LINESTRING (-118.59927 34.25207, -118.59927 34...</td>\n",
       "    </tr>\n",
       "    <tr>\n",
       "      <th>18</th>\n",
       "      <td>901</td>\n",
       "      <td>LINESTRING (-118.59682 34.19051, -118.59747 34...</td>\n",
       "    </tr>\n",
       "    <tr>\n",
       "      <th>19</th>\n",
       "      <td>901</td>\n",
       "      <td>LINESTRING (-118.37799 34.16852, -118.37744 34...</td>\n",
       "    </tr>\n",
       "    <tr>\n",
       "      <th>20</th>\n",
       "      <td>901</td>\n",
       "      <td>LINESTRING (-118.57169 34.18742, -118.57207 34...</td>\n",
       "    </tr>\n",
       "    <tr>\n",
       "      <th>21</th>\n",
       "      <td>910</td>\n",
       "      <td>LINESTRING (-118.28798 33.72493, -118.28798 33...</td>\n",
       "    </tr>\n",
       "    <tr>\n",
       "      <th>22</th>\n",
       "      <td>910</td>\n",
       "      <td>LINESTRING (-118.04513 34.07202, -118.04598 34...</td>\n",
       "    </tr>\n",
       "  </tbody>\n",
       "</table>\n",
       "</div>"
      ],
      "text/plain": [
       "   VAR_ROUTE                                           geometry\n",
       "0        720  LINESTRING (-118.49027 34.01384, -118.49043 34...\n",
       "1        720  LINESTRING (-118.44719 34.05707, -118.44699 34...\n",
       "2        720  LINESTRING (-118.34633 34.06229, -118.34617 34...\n",
       "3        720  LINESTRING (-118.46105 34.04936, -118.46087 34...\n",
       "4        720  LINESTRING (-118.23948 34.03875, -118.23842 34...\n",
       "5        720  LINESTRING (-118.48877 34.02689, -118.48888 34...\n",
       "6        720  LINESTRING (-118.40898 34.06709, -118.40948 34...\n",
       "7        720  LINESTRING (-118.23994 34.03921, -118.23981 34...\n",
       "8        720  LINESTRING (-118.28949 34.06226, -118.28991 34...\n",
       "9        754  LINESTRING (-118.29150 33.92401, -118.29149 33...\n",
       "10       754  LINESTRING (-118.29187 33.95396, -118.29187 33...\n",
       "11       754  LINESTRING (-118.29176 34.09985, -118.29177 34...\n",
       "12       754  LINESTRING (-118.29167 33.95981, -118.29168 33...\n",
       "13       761  LINESTRING (-118.43460 34.03512, -118.43536 34...\n",
       "14       761  LINESTRING (-118.45078 34.29346, -118.45078 34...\n",
       "15       854  LINESTRING (-118.23319 34.05540, -118.23310 34...\n",
       "16       854  LINESTRING (-118.22423 34.04751, -118.22522 34...\n",
       "17       901  LINESTRING (-118.59927 34.25207, -118.59927 34...\n",
       "18       901  LINESTRING (-118.59682 34.19051, -118.59747 34...\n",
       "19       901  LINESTRING (-118.37799 34.16852, -118.37744 34...\n",
       "20       901  LINESTRING (-118.57169 34.18742, -118.57207 34...\n",
       "21       910  LINESTRING (-118.28798 33.72493, -118.28798 33...\n",
       "22       910  LINESTRING (-118.04513 34.07202, -118.04598 34..."
      ]
     },
     "execution_count": 28,
     "metadata": {},
     "output_type": "execute_result"
    }
   ],
   "source": [
    "brt_trimmed = brt[desired_col].copy()\n",
    "brt_trimmed"
   ]
  },
  {
   "cell_type": "code",
   "execution_count": 29,
   "id": "c05cef5e-04d0-4520-aaa9-5665a959c888",
   "metadata": {},
   "outputs": [
    {
     "data": {
      "text/html": [
       "<div>\n",
       "<style scoped>\n",
       "    .dataframe tbody tr th:only-of-type {\n",
       "        vertical-align: middle;\n",
       "    }\n",
       "\n",
       "    .dataframe tbody tr th {\n",
       "        vertical-align: top;\n",
       "    }\n",
       "\n",
       "    .dataframe thead th {\n",
       "        text-align: right;\n",
       "    }\n",
       "</style>\n",
       "<table border=\"1\" class=\"dataframe\">\n",
       "  <thead>\n",
       "    <tr style=\"text-align: right;\">\n",
       "      <th></th>\n",
       "      <th>VAR_ROUTE</th>\n",
       "      <th>geometry</th>\n",
       "    </tr>\n",
       "  </thead>\n",
       "  <tbody>\n",
       "    <tr>\n",
       "      <th>0</th>\n",
       "      <td>720</td>\n",
       "      <td>LINESTRING (-118.49027 34.01384, -118.49043 34...</td>\n",
       "    </tr>\n",
       "    <tr>\n",
       "      <th>1</th>\n",
       "      <td>720</td>\n",
       "      <td>LINESTRING (-118.44719 34.05707, -118.44699 34...</td>\n",
       "    </tr>\n",
       "    <tr>\n",
       "      <th>2</th>\n",
       "      <td>720</td>\n",
       "      <td>LINESTRING (-118.34633 34.06229, -118.34617 34...</td>\n",
       "    </tr>\n",
       "    <tr>\n",
       "      <th>3</th>\n",
       "      <td>720</td>\n",
       "      <td>LINESTRING (-118.46105 34.04936, -118.46087 34...</td>\n",
       "    </tr>\n",
       "    <tr>\n",
       "      <th>4</th>\n",
       "      <td>720</td>\n",
       "      <td>LINESTRING (-118.23948 34.03875, -118.23842 34...</td>\n",
       "    </tr>\n",
       "    <tr>\n",
       "      <th>5</th>\n",
       "      <td>720</td>\n",
       "      <td>LINESTRING (-118.48877 34.02689, -118.48888 34...</td>\n",
       "    </tr>\n",
       "    <tr>\n",
       "      <th>6</th>\n",
       "      <td>720</td>\n",
       "      <td>LINESTRING (-118.40898 34.06709, -118.40948 34...</td>\n",
       "    </tr>\n",
       "    <tr>\n",
       "      <th>7</th>\n",
       "      <td>720</td>\n",
       "      <td>LINESTRING (-118.23994 34.03921, -118.23981 34...</td>\n",
       "    </tr>\n",
       "    <tr>\n",
       "      <th>8</th>\n",
       "      <td>720</td>\n",
       "      <td>LINESTRING (-118.28949 34.06226, -118.28991 34...</td>\n",
       "    </tr>\n",
       "  </tbody>\n",
       "</table>\n",
       "</div>"
      ],
      "text/plain": [
       "  VAR_ROUTE                                           geometry\n",
       "0       720  LINESTRING (-118.49027 34.01384, -118.49043 34...\n",
       "1       720  LINESTRING (-118.44719 34.05707, -118.44699 34...\n",
       "2       720  LINESTRING (-118.34633 34.06229, -118.34617 34...\n",
       "3       720  LINESTRING (-118.46105 34.04936, -118.46087 34...\n",
       "4       720  LINESTRING (-118.23948 34.03875, -118.23842 34...\n",
       "5       720  LINESTRING (-118.48877 34.02689, -118.48888 34...\n",
       "6       720  LINESTRING (-118.40898 34.06709, -118.40948 34...\n",
       "7       720  LINESTRING (-118.23994 34.03921, -118.23981 34...\n",
       "8       720  LINESTRING (-118.28949 34.06226, -118.28991 34..."
      ]
     },
     "execution_count": 29,
     "metadata": {},
     "output_type": "execute_result"
    }
   ],
   "source": [
    "# the following query outputs the rows that have the 720 bus route\n",
    "brt_trimmed[brt_trimmed.VAR_ROUTE == '720']"
   ]
  },
  {
   "cell_type": "code",
   "execution_count": 30,
   "id": "d7121085-ee74-4dd0-bfcd-c189673614a6",
   "metadata": {},
   "outputs": [
    {
     "data": {
      "text/plain": [
       "<AxesSubplot:>"
      ]
     },
     "execution_count": 30,
     "metadata": {},
     "output_type": "execute_result"
    },
    {
     "data": {
      "image/png": "[encoded data removed]",
      "text/plain": [
       "<Figure size 432x288 with 1 Axes>"
      ]
     },
     "metadata": {
      "needs_background": "light"
     },
     "output_type": "display_data"
    }
   ],
   "source": [
    "# this command uses the data's geometry column to plot the different BRT routes on a graph\n",
    "brt_trimmed.plot()"
   ]
  },
  {
   "cell_type": "code",
   "execution_count": 58,
   "id": "ca73cbbb-c780-4ce1-a18e-ce5b96042bda",
   "metadata": {},
   "outputs": [
    {
     "data": {
      "text/plain": [
       "<AxesSubplot:>"
      ]
     },
     "execution_count": 58,
     "metadata": {},
     "output_type": "execute_result"
    },
    {
     "data": {
      "image/png": "[encoded data removed]",
      "text/plain": [
       "<Figure size 1440x864 with 1 Axes>"
      ]
     },
     "metadata": {
      "needs_background": "light"
     },
     "output_type": "display_data"
    }
   ],
   "source": [
    "# let's map the map a little bigger and give each route a different color\n",
    "# the code used below is sourced from Week 2's PythonandMetro lab\n",
    "brt_trimmed.plot(\n",
    "            figsize=(20,12),   #size of the plot\n",
    "            column = 'VAR_ROUTE',   # column that defines the color of the dots\n",
    "            legend = True,     # add a legend           \n",
    "            legend_kwds={\n",
    "               'loc': 'upper right',\n",
    "               'bbox_to_anchor':(1,1)\n",
    "            }                  # this puts the legend to the side\n",
    ") "
   ]
  },
  {
   "cell_type": "markdown",
   "id": "120d97c3-447d-49d9-b659-b820c970f80c",
   "metadata": {},
   "source": [
    "End."
   ]
  },
  {
   "cell_type": "code",
   "execution_count": null,
   "id": "ed21387f-c642-4685-9454-837169fd1399",
   "metadata": {},
   "outputs": [],
   "source": []
  }
 ],
 "metadata": {
  "kernelspec": {
   "display_name": "Python 3 (ipykernel)",
   "language": "python",
   "name": "python3"
  },
  "language_info": {
   "codemirror_mode": {
    "name": "ipython",
    "version": 3
   },
   "file_extension": ".py",
   "mimetype": "text/x-python",
   "name": "python",
   "nbconvert_exporter": "python",
   "pygments_lexer": "ipython3",
   "version": "3.9.6"
  }
 },
 "nbformat": 4,
 "nbformat_minor": 5
}
